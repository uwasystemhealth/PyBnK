{
 "cells": [
  {
   "cell_type": "markdown",
   "metadata": {},
   "source": [
    "# Test the bnk module with a PCB accelerometer"
   ]
  },
  {
   "cell_type": "markdown",
   "metadata": {},
   "source": [
    "Here we test the amplitude and frequency calibration of the BnK device using a [PCB accelerometer](https://www.pcb.com/spec_sheet.asp?model=352C650) attached to a [PCB calibrated shaker](https://www.pcb.com/spec_sheet.asp?model=394C06&item_id=2198)."
   ]
  },
  {
   "cell_type": "code",
   "execution_count": null,
   "metadata": {},
   "outputs": [],
   "source": [
    "import time\n",
    "\n",
    "from bnk.bnk import  OpenWav, WavHeader, Instrument"
   ]
  },
  {
   "cell_type": "markdown",
   "metadata": {},
   "source": [
    "# Gather some data from a PCB accelerometer"
   ]
  },
  {
   "cell_type": "markdown",
   "metadata": {},
   "source": [
    "The accelerometer is screwed onto the top of the shaker, and is connected to channel 4 of the BnK device. "
   ]
  },
  {
   "cell_type": "code",
   "execution_count": null,
   "metadata": {},
   "outputs": [],
   "source": [
    "bnk_ip = \"10.1.1.66\"\n",
    "ADAC = Instrument(bnk_ip)"
   ]
  },
  {
   "cell_type": "code",
   "execution_count": null,
   "metadata": {},
   "outputs": [],
   "source": [
    "ADAC.disable_all()\n",
    "ADAC.set_samplerate(16384)\n",
    "ADAC.set_name(\"PCB calibrated shaker\")\n",
    "ADAC.set_channel(    \n",
    "                channel=4,\n",
    "                name='PCB 394C06 SN 2706 1 g at 159.2 Hz',\n",
    "                c_filter='7.0 Hz',\n",
    "                c_range='10 Vpeak',\n",
    "                sensitivity=0.0991,\n",
    "                unit='g',\n",
    "                powered=True,\n",
    "                serialNumber='LW207441',\n",
    "                transducerType='PCB352C65',\n",
    "                )\n",
    "ADAC.powerup()\n",
    "print(\"Waiting for amplifier in PCB to stabilise ...\")\n",
    "time.sleep(20)\n",
    "print(\"Recording\")\n",
    "recording_id = ADAC.record(2)\n",
    "ADAC.powerdown()"
   ]
  },
  {
   "cell_type": "code",
   "execution_count": null,
   "metadata": {},
   "outputs": [],
   "source": [
    "ADAC.list_recordings(start = -5)"
   ]
  },
  {
   "cell_type": "code",
   "execution_count": null,
   "metadata": {},
   "outputs": [],
   "source": [
    "WAV_file = ADAC.get_wav(directory='../samples', recording_id=recording_id)\n",
    "print(WAV_file)\n",
    "ADAC.delete_recording(recording_id=recording_id)"
   ]
  },
  {
   "cell_type": "markdown",
   "metadata": {},
   "source": [
    "## Load and display the data"
   ]
  },
  {
   "cell_type": "code",
   "execution_count": null,
   "metadata": {},
   "outputs": [],
   "source": [
    "WAV_file = '../samples/PCB_calibrated_shaker_20190805205924.wav'\n",
    "wav_data, metadata, json_data = OpenWav(WAV_file)"
   ]
  },
  {
   "cell_type": "code",
   "execution_count": null,
   "metadata": {},
   "outputs": [],
   "source": [
    "#!conda install -c conda-forge bokeh -y"
   ]
  },
  {
   "cell_type": "code",
   "execution_count": null,
   "metadata": {},
   "outputs": [],
   "source": [
    "from ipywidgets import interact\n",
    "import numpy as np\n",
    "\n",
    "from bokeh.io import push_notebook, show, output_notebook\n",
    "from bokeh.plotting import figure\n",
    "output_notebook()"
   ]
  },
  {
   "cell_type": "code",
   "execution_count": null,
   "metadata": {},
   "outputs": [],
   "source": [
    "plt = figure(\n",
    "    title = metadata['Label'],\n",
    "    width = 800,\n",
    "    height = 400,\n",
    "    tools = ['xwheel_zoom','xpan','save','reset']\n",
    "    \n",
    "    )\n",
    "\n",
    "sr = metadata['SampleRate']\n",
    "N = len(wav_data)\n",
    "delta_t = 1.0/sr\n",
    "t = np.arange(0,N*delta_t,delta_t)\n",
    "\n",
    "phase = 4.4\n",
    "amp = 1\n",
    "freq = 159.2\n",
    "n = 1000\n",
    "\n",
    "c = 0 # Channel\n",
    "plt.line(t[:n], \n",
    "         wav_data[:n,c], \n",
    "         line_color='blue',\n",
    "         legend=metadata['ChannelNames'][c]\n",
    "        )\n",
    "r = plt.line(t[:n],\n",
    "             amp*np.sin(2*np.pi*freq*t[:n] + phase),\n",
    "             line_color='red', \n",
    "             legend=f\"{amp}  sin({freq} * 2πt + {phase})\",\n",
    "            )\n",
    "\n",
    "plt.legend.click_policy=\"hide\"\n",
    "\n",
    "def update(phase=0):\n",
    "    r.data_source.data['y'] = amp*np.sin(2*np.pi*freq*t[:n] + phase)\n",
    "    push_notebook()\n",
    "\n",
    "show(plt, notebook_handle=True)"
   ]
  },
  {
   "cell_type": "code",
   "execution_count": null,
   "metadata": {},
   "outputs": [],
   "source": [
    "interact(update, phase=(0, 2*np.pi, 0.1))"
   ]
  }
 ],
 "metadata": {
  "kernelspec": {
   "display_name": "Python 3",
   "language": "python",
   "name": "python3"
  },
  "language_info": {
   "codemirror_mode": {
    "name": "ipython",
    "version": 3
   },
   "file_extension": ".py",
   "mimetype": "text/x-python",
   "name": "python",
   "nbconvert_exporter": "python",
   "pygments_lexer": "ipython3",
   "version": "3.7.3"
  }
 },
 "nbformat": 4,
 "nbformat_minor": 4
}
