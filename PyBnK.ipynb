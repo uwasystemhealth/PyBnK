{
 "cells": [
  {
   "cell_type": "markdown",
   "metadata": {
    "Collapsed": "false"
   },
   "source": [
    "<p style='font-size:20pt;color:blue'>PyBnK : Using Python to communicate with a Brüel &amp; Kjær Type 3050-B-6</p>"
   ]
  },
  {
   "cell_type": "markdown",
   "metadata": {
    "Collapsed": "false"
   },
   "source": [
    "# Introduction"
   ]
  },
  {
   "cell_type": "markdown",
   "metadata": {
    "Collapsed": "false"
   },
   "source": [
    "To communicate with a stand-alone [Brüel & Kjær Type 3050-B-6](https://www.bksv.com/en/products/data-acquisition-systems-and-hardware/LAN-XI-data-acquisition-hardware/modules/type-3050), it is necessary to have a [Notar™ BZ-7848-A (LAN-XI stand-alone recorder license)](https://www.bksv.com/en/products/data-acquisition-systems-and-hardware/general-purpose-analyzer-system/lan-xi-notar), which allows you to interact with the device via a browser, utilising the Ethernet port at the back of the device. For brevity, in what follows, we will denote the Brüel & Kjær Type 3050-B-6 with a Notar™ BZ-7848-A (LAN-XI stand-alone recorder license) simply as __BnK__.\n",
    "The browser feature allows for easy access from a network connected device, however there are times when a more automated data collection method is desireable, either because a series of repeatable measurements are being taken or because control of the BnK device is from a device without a user-interface style of browser.\n",
    "This notebook contains the source code for a Python 3 module, which allows automated interaction with a BnK from any device which can run python 3, such as a Beaglebone Black, Raspberry Pi, or a computer running JupyterLab. The python module for interacting with a BnK device will be denoted simply as __bnk__.\n",
    "This module has been developed to work with a BnK device running firmware version 2.0.0.214. \n",
    "The behaviour for this module for other firmware versions or other models of Brüel & Kjær acquisition system are unknown.\n",
    "\n",
    "The various specifications for the BnK are contained in the [Brüel & Kjær Type 3050-B-6 brochure](https://www.bksv.com/media/doc/bp2215.pdf)."
   ]
  },
  {
   "cell_type": "markdown",
   "metadata": {
    "Collapsed": "false",
    "toc-hr-collapsed": false
   },
   "source": [
    "# bnk module Python 3 code"
   ]
  },
  {
   "cell_type": "markdown",
   "metadata": {
    "Collapsed": "false"
   },
   "source": [
    "This notebook was used in the development of the module.\n",
    "The cell below contains the bnk module code. \n",
    "This cell can be edited and then executed to immediately modify and (re)-load the functions `WavHeader`, `OpenWav` and the `Instrument` class."
   ]
  },
  {
   "cell_type": "code",
   "execution_count": null,
   "metadata": {
    "Collapsed": "false"
   },
   "outputs": [],
   "source": [
    "#%%writefile bnk/bnk.py\n",
    "\"\"\"\n",
    "This module contains the code for interacting with a BnK via Python.\n",
    "\n",
    "This package is useful if you have a Brüel & Kjær Type 3050-B-6 with a\n",
    "Notar™ BZ-7848-A (LAN-XI stand-alone recorder license).\n",
    "\n",
    "This package contains the following two functions:\n",
    "    WavHeader(wav_file,verbose=False): \n",
    "        Extract metadata from a BnK produced WAV file.\n",
    "    OpenWav(wav_file,verbose=False): \n",
    "        Extract times series data and metadata from a BnK produced WAV \n",
    "        file.\n",
    "    \n",
    "And the following class:\n",
    "    Instrument\n",
    "\"\"\"\n",
    "\n",
    "import requests\n",
    "import os\n",
    "import time\n",
    "import re\n",
    "import json\n",
    "from datetime import datetime as dt\n",
    "import soundfile\n",
    "import numpy as np\n",
    "\n",
    "def WavHeader(wav_file, verbose=False):\n",
    "    \"\"\"WavHeader takes a BnK produced WAV file as input and returns a \n",
    "    dictionary containing both the WAV header information and the BnK \n",
    "    metadata.  The header data is at the beginning of the WAV file (as \n",
    "    the name suggests) and the metadata is at the end of the WAV file.\n",
    "\n",
    "    Parameters:\n",
    "        wav_file (str): The WAV file to be opened\n",
    "        verbose (bool): A flag to print more information about the WAV \n",
    "                        file header and metadata (default is False)\n",
    "        \n",
    "    Returns:\n",
    "        header (dict): Containing the header and metadata associated \n",
    "                       with the WAV file\n",
    "    \"\"\"\n",
    "\n",
    "    # Read in some data from the binary file as type uint8\n",
    "    # 33000 should be enough to contain the header\n",
    "    dt = np.dtype('uint8')\n",
    "    x = np.fromfile(wav_file, dtype=dt, count=33000) \n",
    "    \n",
    "    n = 0\n",
    "    header = {'ChunkID' : \"\".join(chr(a) for a in x[n:n+4])}\n",
    "    n += 4\n",
    "    header['ChunkSize'] = int.from_bytes(x[n:n+4], byteorder='little',\n",
    "                                         signed=False)\n",
    "    n += 4    \n",
    "    header['Format'] = \"\".join(chr(a) for a in x[n:n+4])\n",
    "    n += 4\n",
    "    header['Subchunk1ID'] = \"\".join(chr(a) for a in x[n:n+4])\n",
    "    n += 4\n",
    "    header['Subchunk1Size'] = int.from_bytes(x[n:n+4], byteorder='little',\n",
    "                                             signed=False)\n",
    "    n += 4\n",
    "    header['AudioFormat'] = int.from_bytes(x[n:n+2], byteorder='little',\n",
    "                                           signed=False)\n",
    "    n += 2\n",
    "    header['NumChannels'] = int.from_bytes(x[n:n+2], byteorder='little',\n",
    "                                           signed=False)\n",
    "    n += 2\n",
    "    header['SampleRate'] = int.from_bytes(x[n:n+4], byteorder='little',\n",
    "                                          signed=False)\n",
    "    n += 4\n",
    "    header['ByteRate'] = int.from_bytes(x[n:n+4], byteorder='little',\n",
    "                                        signed=False)\n",
    "    n += 4\n",
    "    header['BlockAlign'] = int.from_bytes(x[n:n+2], byteorder='little',\n",
    "                                          signed=False)\n",
    "    n += 2\n",
    "    header['BitsPerSample'] = int.from_bytes(x[n:n+2], byteorder='little',\n",
    "                                             signed=False)\n",
    "    n += 2\n",
    "    \n",
    "    # The BnK puts a bunch of metadata into the WAV file\n",
    "    # I don't know what ALL the metadata means, but have inferred \n",
    "    # the meaning of most of it.\n",
    "    header['Meta'] = \"\".join(chr(a) for a in x[n:n+4])\n",
    "    n += 4\n",
    "    header['MetaSize'] = int.from_bytes(x[n:n+4], byteorder='little', \n",
    "                                        signed=False)\n",
    "    n += 4\n",
    "    n += header['MetaSize']  # Metadata seems to have a fixed size of 32716\n",
    "    \n",
    "    header['Subchunk2ID'] = \"\".join(chr(a) for a in x[n:n+4])\n",
    "    n += 4\n",
    "    header['Subchunk2Size'] = int.from_bytes(x[n:n+4], byteorder='little', \n",
    "                                             signed=False)\n",
    "    n += 4\n",
    "\n",
    "    # We now know how much data the WAV file contains, so we can \n",
    "    # move past the headerand the data to grab the rest of the file, \n",
    "    # which contains the metadata.\n",
    "    n += header['Subchunk2Size']\n",
    "    with open(wav_file, \"rb\") as f:\n",
    "        f.seek(n, os.SEEK_SET)\n",
    "        meta = f.read()\n",
    "    header['ExtraBytes'] = meta\n",
    "    \n",
    "    if header['ExtraBytes']:\n",
    "        header['Scale'] = []\n",
    "        header['Sensitivity'] = []\n",
    "        header['Transducer'] = []\n",
    "        # Ignore the first 10 characters\n",
    "        meta_list = header['ExtraBytes'][8:].split(b'\\x00') \n",
    "        # Get rid of the empty bits of metadata\n",
    "        meta_list = list(filter(None, meta_list)) \n",
    "        # I don't know what the first piece of metadata represents, \n",
    "        # possibly a version number, as it seems fixed a '2.10'. \n",
    "        # I am ignoring it.\n",
    "        meta_index = 1 \n",
    "        header['Date'] = meta_list[meta_index].decode()\n",
    "        meta_index = meta_index + 1\n",
    "        for x in range(header['NumChannels']):\n",
    "            header['Transducer'].append(meta_list[meta_index].decode())\n",
    "            meta_index = meta_index + 1\n",
    "            header['Sensitivity'].append(float(meta_list[meta_index].decode()))\n",
    "            meta_index = meta_index + 6\n",
    "            header['Scale'].append(float(meta_list[meta_index].decode()))\n",
    "            meta_index = meta_index + 4\n",
    "        header['UnitName'] = meta_list[meta_index].decode()\n",
    "        meta_index = meta_index + 1\n",
    "        header['Label'] = meta_list[meta_index].decode().split(\":\",1)[1]\n",
    "        # Remove UTC info, and blank space at start of label\n",
    "        UTC_info = '. Recording date/time is in UTC.'\n",
    "        header['Label'] = header['Label'][1:].replace(UTC_info,'')\n",
    "        meta_index = meta_index + 2\n",
    "        setup_string = meta_list[meta_index].decode()\n",
    "        header['ChannelUnits'] = []\n",
    "        header['ChannelNames'] = []   \n",
    "        for i in range(header['NumChannels']):\n",
    "            info_start = setup_string.find('[Channel {}]'.format(i+1))\n",
    "            setup_string = setup_string[info_start+12:]\n",
    "            info_stop = setup_string.find('[')\n",
    "            channel_info = setup_string[:info_stop]\n",
    "            header['ChannelUnits'].append(\n",
    "                channel_info.split('Unit=')[1].split('\\n',1)[0])\n",
    "            header['ChannelNames'].append(\n",
    "                channel_info.split('Name=')[1].rsplit('\\n',1)[0])\n",
    "\n",
    "    else:\n",
    "        if verbose:\n",
    "            print(\"File does not contain extra data.\")\n",
    "\n",
    "    if verbose:\n",
    "        print(\"Header info for {}\".format(wav_file))\n",
    "        for key in header:\n",
    "            print(key, ' : ', header[key])\n",
    "        print()\n",
    "\n",
    "    return header\n",
    "\n",
    "def OpenWav(wav_file,verbose=False,start=0,stop=None):\n",
    "    \"\"\"This function opens a BnK created WAV file.\n",
    "    \n",
    "    Parameters:\n",
    "        wav_file (str): The WAV file to be opened\n",
    "        verbose (bool): A flag to print more information about the\n",
    "                        WAV file (default is False).\n",
    "        start (int) :   Index of the first value to retrieve\n",
    "        stop (int) :    Index of the last value to retrieve\n",
    "        \n",
    "    Returns:\n",
    "        wav_data (ndarray): Containing scaled times series data for\n",
    "                            each channel in the WAV file. \n",
    "        header (dict):      Containing the header and metadata \n",
    "                            associated with the WAV file\n",
    "        json_data (dict):   Containing the settings dictionary used by\n",
    "                            the bnk device during recording\n",
    "    \"\"\"\n",
    "    \n",
    "    header = WavHeader(wav_file, verbose)\n",
    "\n",
    "    wav_data, sr = soundfile.read(wav_file, always_2d=True, \n",
    "                                  start=start,stop=stop)\n",
    "    \n",
    "    for x in range(header['NumChannels']):\n",
    "        # The scale factor already incorporates the sensitivity\n",
    "        wav_data[:,x] = header['Scale'][x] * wav_data[:,x]\n",
    "\n",
    "    json_file = wav_file[:-3] + \"json\"\n",
    "    if os.path.isfile(json_file):\n",
    "        with open(json_file, 'r') as f:\n",
    "            json_data = json.loads(f.read())\n",
    "    else:\n",
    "        json_data = None\n",
    "    \n",
    "    if verbose:\n",
    "        print(\"{} contains {} channels, extracting {} samples per channel.\".format(\n",
    "            wav_file, wav_data.shape[1], wav_data.shape[0]))\n",
    "        print()\n",
    "        print(json_data)\n",
    "    \n",
    "    return wav_data, header, json_data\n",
    "\n",
    "class Instrument(object):\n",
    "    \"\"\"A class used to represent a BnK device.\n",
    "    \n",
    "    Parameters:\n",
    "        bnk_ip (str)     : The ip address of the BnK device    \n",
    "    \n",
    "    Attributes:\n",
    "        info (dict)      : Summary of status of BnK device at last query\n",
    "        settings (dict)  : Channel settings to be used for next recording\n",
    "        recordings (list): List of recordings on the BnK device\n",
    "        ip (str)         : The ip address of the BnK device\n",
    "        base_url (str)   : The URL of the BnK device\n",
    "        header (dict)    : TCP/IP header, which allows communication with\n",
    "                           the BnK\n",
    "        last_change (int): Count of the number of calls to the BnK device\n",
    "        \n",
    "    Methods:\n",
    "        open():\n",
    "            Open the recorder application on the BnK device\n",
    "        close():\n",
    "            Close the recorder application on the BnK device\n",
    "        reboot():\n",
    "            Reboot the BnK device\n",
    "        transducers():\n",
    "            Returns a list of the current transducers (not currently used)\n",
    "        show_settings(display,settings):\n",
    "            Display the settings to be used for the next recording or a \n",
    "            given dictionary\n",
    "        status(verbose):\n",
    "            Get a status update\n",
    "        powerup():\n",
    "            Prepare the BnK device for recording\n",
    "        record(record_length=1):\n",
    "            Record for {record_length} seconds\n",
    "        start_record():\n",
    "            Begin recording\n",
    "        stop_record():\n",
    "            Stop recording\n",
    "        powerdown():\n",
    "            Power down powered devices and turn off recording mode\n",
    "        get_settings(measurement=0):\n",
    "            Get the settings from a previous recording\n",
    "        get_wav(measurement=0,directory='',recording_id=''):\n",
    "            Download the WAV file associated with a recording\n",
    "        delete_recording(measurement=0,recording_id=''):\n",
    "            Delete a recording from the BnK device\n",
    "        delete_all(checkstr):\n",
    "            Delete ALL recordings from the BnK device\n",
    "        disable_all():\n",
    "            Disable all channels\n",
    "        disable_channel(channel=1):\n",
    "            Disable a channel\n",
    "        enable_channel(channel=1):\n",
    "            Enable a channel\n",
    "        set_samplerate(sample_rate):\n",
    "            Set the sample rate for all channels\n",
    "        set_channel():\n",
    "            Set the parameter for a chennel\n",
    "        set_name(name): \n",
    "            Set the name for the next recording\n",
    "    \"\"\"\n",
    "    \n",
    "    def __init__(self,bnk_ip):\n",
    "        self.base_url = 'http://{}/'.format(bnk_ip)\n",
    "        self.ip = bnk_ip\n",
    "\n",
    "        self.header = {\n",
    "            'Accept': ('text/html.application/xhtml+xml,'\n",
    "                       'application/xml;q=0.9,*/*;q-0.8'),\n",
    "            'Accept-Encoding': 'gzip, deflate',\n",
    "            'Accept-Language': 'en-US,en;q=0.5',\n",
    "            'Connection': 'keep-alive',\n",
    "            'host': self.ip,\n",
    "            'If-Modified-Since': 'Sat, 1 Jan 2005 00:00:00 GMT',\n",
    "            'Referer': self.base_url + 'recorder',\n",
    "            'User-agent': 'Firefox',\n",
    "             }\n",
    "        \n",
    "        self.status()\n",
    "                  \n",
    "        # Set the time\n",
    "        now_str = str(int(time.mktime(\n",
    "            dt.now().timetuple()))*1000)\n",
    "        z = self.header.copy()\n",
    "        z.update({'Content-Length': \"{}\".format(len(now_str)),\n",
    "                  'Content-Type': 'text/plain; charset=UTF-8'})\n",
    "        try:\n",
    "            response = requests.put(self.base_url + 'rest/rec/module/time',\n",
    "                                    headers=z,data=now_str)\n",
    "        except:\n",
    "            print(\"There appears to be no BnK device connected.\")\n",
    "            return\n",
    "\n",
    "        if self.state == 'Idle':\n",
    "            self.open()\n",
    "\n",
    "        # Get some info from the B & K\n",
    "        response = requests.get(self.base_url + 'rest/rec/module/info', \n",
    "                                headers=self.header)\n",
    "        self.info = json.loads(response.text)\n",
    "\n",
    "        # Get some info about the default settings\n",
    "        response = requests.get(self.base_url \n",
    "                                + 'rest/rec/channels/input/default', \n",
    "                                headers=self.header)\n",
    "        self.settings = json.loads(response.text)\n",
    "\n",
    "        # Get the list of recordings\n",
    "        self.list_recordings(quiet=True)        \n",
    "        \n",
    "    def __str__(self):\n",
    "        \"\"\"Produces a string with various info about an instrument.\"\"\"\n",
    "\n",
    "        out_str = f\"\"\"\n",
    "BnK Properties:\n",
    "    {self.info['numberOfInputChannels']} channels\n",
    "    SD card is{'' if self.info['sdCardInserted'] else ' not'} inserted\n",
    "    Filters      : {self.info['supportedFilters']}\n",
    "    SampleRates  : {self.info['supportedSampleRates']}        \n",
    "    Ranges       : {self.info['supportedRanges']}\n",
    "\n",
    "\"\"\" \n",
    "        syntax_buy_fix = '\"\"\"'\n",
    "        out_str += self.show_settings(False)\n",
    "        out_str += self.status(False)\n",
    "        \n",
    "        return out_str\n",
    "\n",
    "    def __check_string(self,test_string):\n",
    "        \"\"\"Check for potentially corrupting characters.\n",
    "\n",
    "        I don't know exactly which characters are allowed for labels\n",
    "        in the BnK device, so I will be conservative and only allow\n",
    "        the following:\n",
    "                a-z, A-Z, 0-9, '-', '_', ' ' and '.'\n",
    "        \"\"\"\n",
    "        if re.search(r'[^a-zA-Z0-9\\-_\\ \\.]', test_string):\n",
    "            raise Exception(\"Strings can only contain a-z, \"\n",
    "                            \"A-Z, 0-9, '-', '_', ' ' and '.'\")\n",
    "        return test_string\n",
    "\n",
    "    def reboot(self):\n",
    "        \"\"\"Reboot the BnK device\"\"\"\n",
    "\n",
    "        z = self.header.copy()\n",
    "        z.update({'Content-Length': '0', 'Pragma': 'no-cache'})\n",
    "        response = requests.post(self.base_url, headers=z, data={'reboot' : 1}) \n",
    "\n",
    "    def open(self):\n",
    "        \"\"\"Open the recorder application on the BnK device\"\"\"\n",
    "        \n",
    "        self.status(False)\n",
    "        \n",
    "        if self.state != 'Idle':\n",
    "            raise Exception(f\"BnK must be in state 'Idle' to be opened.\\n\"\n",
    "                           f\"\\t\\tIt is currently in state {self.state}\")\n",
    "\n",
    "        z = self.header.copy()\n",
    "        z.update({'Content-Length': '0', 'Content-Type': 'text/plain'})\n",
    "        response = requests.put(self.base_url + 'rest/rec/open',headers=z)\n",
    "        \n",
    "        self.status()\n",
    "        \n",
    "    def close(self):\n",
    "        \"\"\"Close the recorder application on the BnK device\"\"\"\n",
    "        \n",
    "        if self.state != 'RecorderOpened':\n",
    "            raise Exception(f\"BnK must be in state 'RecorderOpened' \"\n",
    "                           f\"to be closed.\\n\"\n",
    "                           f\"\\t\\tIt is currently in state {self.state}\")\n",
    "            \n",
    "        # Close the recorder application\n",
    "        z = self.header.copy()\n",
    "        z.update({'Content-Length': '0', 'Content-Type': 'text/plain'})\n",
    "        response = requests.put(self.base_url + 'rest/rec/close',headers=z)\n",
    "        \n",
    "        self.status()\n",
    "        \n",
    "    def transducers(self):\n",
    "        \"\"\"Returns a list of the current transducers (not currently used)\n",
    "        \n",
    "        Returns:\n",
    "            list : A list of the transducers for each channel\n",
    "        \"\"\"\n",
    "        \n",
    "        response = requests.get(self.base_url \n",
    "                                + 'rest/rec/channels/input/all/transducers',\n",
    "                                headers=self.header)\n",
    "        return json.loads(response.text)\n",
    "        \n",
    "    def show_settings(self,display=True,settings=False):\n",
    "        \"\"\"Display the settings to be used for the next recording or\n",
    "        a given dictionary\n",
    "        \n",
    "        Parameters\n",
    "            display (bool): If True, this prints the the current settings\n",
    "            settings (bool or dict) : If False, use self settings, \n",
    "                                      otherwise use settings\n",
    "        \"\"\"\n",
    "        \n",
    "        if not settings:\n",
    "            settings = self.settings\n",
    "\n",
    "        sr = { '51.2 kHz' : 131072, '25.6 kHz' : 65536, '12.8 kHz' : 32768, \n",
    "              '6.4 kHz' : 16384, '3.2 kHz' : 8192, '1.6 kHz': 4096 }\n",
    "        out_str = \"\\t{}\\n\".format(settings['name'])\n",
    "        for idx,channel in enumerate(settings['channels']):\n",
    "            if channel['enabled']:\n",
    "                if channel['ccld']:\n",
    "                    powered = \", Powered.\"\n",
    "                else:\n",
    "                    powered = \".\"\n",
    "                out_str += (\"\\tChannel {} : {}\\n\\t\\t{} SPS, {} filter, \"\n",
    "                            \"{}, {}V/{}{}\\n\").format(\n",
    "                                idx+1,\n",
    "                                channel['name'],\n",
    "                                sr[channel['bandwidth']],\n",
    "                                channel['filter'],\n",
    "                                channel['range'],\n",
    "                                channel['transducer']['sensitivity'],\n",
    "                                channel['transducer']['unit'],\n",
    "                                powered,\n",
    "                                )\n",
    "        if display:\n",
    "            print(out_str)\n",
    "            return\n",
    "        else:\n",
    "            return out_str\n",
    "                \n",
    "    def status(self, verbose=True):\n",
    "        \"\"\"Get a status update.\n",
    "        \n",
    "        Parameters:\n",
    "            verbose (bool) : Print status\n",
    "            \n",
    "        \"\"\"\n",
    "\n",
    "        response = requests.get(self.base_url + 'rest/rec/onchange?last=' \n",
    "                                + str(0), headers=self.header)\n",
    "        status_info = json.loads(response.text)\n",
    "        self.last_change = status_info['lastUpdateTag']\n",
    "        self.state = status_info['moduleState']\n",
    "        \n",
    "        current_status = (f\"\\n\\tBnK state : {self.state}\\n\"\n",
    "                          f\"\\tcommands sent : {self.last_change}\\n\"\n",
    "                          f\"\\tBnK clock : {response.headers['Date']}\"\n",
    "                         )\n",
    "        if verbose:\n",
    "            print(current_status)\n",
    "        else:\n",
    "            return current_status\n",
    "\n",
    "    def powerup(self):\n",
    "        \"\"\"Prepare the BnK for recording\"\"\"\n",
    "        \n",
    "        settings = json.dumps(self.settings)\n",
    "\n",
    "        self.status()\n",
    "        if self.state != 'RecorderOpened':\n",
    "            raise Exception(f\"BnK must be in state 'RecorderOpened' \"\n",
    "                           f\"to be configured.\\n\"\n",
    "                           f\"\\t\\tIt is currently in state {self.state}\")\n",
    "\n",
    "        z = self.header.copy()\n",
    "        z.update({'Content-Length': '0', 'Content-Type': 'text/plain'})\n",
    "        response = requests.put(self.base_url + 'rest/rec/create',headers=z)\n",
    "        \n",
    "        self.status()\n",
    "\n",
    "        # Create the new recording\n",
    "        z = self.header.copy()\n",
    "        z.update({'Content-Length': f\"{len(settings)}\",\n",
    "                  'Content-Type': 'text/plain; charset=UTF-8'})\n",
    "        response = requests.put(self.base_url + 'rest/rec/channels/input',\n",
    "                                headers=z, data=settings)\n",
    "        #print(response)\n",
    "        time.sleep(0.1)\n",
    "        \n",
    "        response = requests.get(self.base_url + 'rest/rec/channels/input',\n",
    "                                headers=self.header)\n",
    "        settings = json.loads(response.text)\n",
    "        self.status()\n",
    "        return settings\n",
    "        \n",
    "    def record(self,record_length=1):\n",
    "        \"\"\"Record for a specified length of time\n",
    "        \n",
    "        Parameters:\n",
    "            record_length (int) : in seconds (default: 1)\n",
    "            \n",
    "        Returns:\n",
    "            recordingUri (str) : The URI needed to access the recording\n",
    "        \"\"\"\n",
    "                \n",
    "        if self.state != 'RecorderStreaming':\n",
    "            raise Exception(f\"BnK must be in state 'RecorderStreaming' \"\n",
    "                           f\"to record.\\n\"\n",
    "                           f\"\\t\\tIt is currently in state {self.state}\")\n",
    "\n",
    "        # Press the start button, and get the recording URI\n",
    "        z = self.header.copy()\n",
    "        z.update({'Content-Length': '0', 'Pragma': 'no-cache'})\n",
    "        response = requests.post(self.base_url + 'rest/rec/measurements',\n",
    "                                 headers=z, data=\"\")\n",
    "        recordingUri = response.text\n",
    "        print(\"The recording uri is : \" + self.base_url + recordingUri)\n",
    "        self.status()\n",
    "                \n",
    "        # Record for some time\n",
    "        time.sleep(record_length)\n",
    "\n",
    "        z = self.header.copy()\n",
    "        z.update({'Content-Length': '0', 'Content-Type': 'text/plain'})\n",
    "        response = requests.put(self.base_url + recordingUri + \"/stop\",\n",
    "                                headers=z)\n",
    "        self.status()\n",
    "        \n",
    "        return recordingUri[-10:]\n",
    "\n",
    "    def start_record(self):\n",
    "        \"\"\"Start the BnK device recording\"\"\"\n",
    "                \n",
    "        if self.state != 'RecorderStreaming':\n",
    "            raise Exception(f\"BnK must be in state 'RecorderStreaming' \"\n",
    "                           f\"to record.\\n\"\n",
    "                           f\"\\t\\tIt is currently in state {self.state}\")\n",
    "\n",
    "        # Press the start button, and get the recording URI\n",
    "        z = self.header.copy()\n",
    "        z.update({'Content-Length': '0', 'Pragma': 'no-cache'})\n",
    "        response = requests.post(self.base_url + 'rest/rec/measurements',\n",
    "                                 headers=z, data=\"\")\n",
    "        recordingUri = response.text\n",
    "        print(\"The recording uri is : \" + self.base_url + recordingUri)\n",
    "        self.recordingUri = recordingUri\n",
    "        self.status()\n",
    "        return recordingUri[-10:]\n",
    "                \n",
    "    def stop_record(self):\n",
    "        \"\"\"Stop the BnK device recording\"\"\"\n",
    "        \n",
    "        if self.state != 'RecorderRecording':\n",
    "            raise Exception(f\"BnK must be in state 'RecorderRecording' \"\n",
    "                           f\"to stop recording.\\n\"\n",
    "                           f\"\\t\\tIt is currently in state {self.state}\")\n",
    "\n",
    "        z = self.header.copy()\n",
    "        z.update({'Content-Length': '0', 'Content-Type': 'text/plain'})\n",
    "        response = requests.put(self.base_url + self.recordingUri + \"/stop\",\n",
    "                                headers=z)\n",
    "        self.status()\n",
    "        \n",
    "    def powerdown(self):\n",
    "        \"\"\"Close the BnK measurement setup (which also turns off \n",
    "        power to powered transducers).\n",
    "        \n",
    "        This function also updates the list of recordings associated \n",
    "        with the instrument.\n",
    "        \"\"\"\n",
    "    \n",
    "        self.status()\n",
    "        \n",
    "        print(\"Closing recorder application\\n\"\n",
    "             \"(This can take a while if there are lots of recordings)\")\n",
    "        \n",
    "        # Finish the measurements\n",
    "        z = self.header.copy()\n",
    "        z.update({'Content-Length': '0', 'Content-Type': 'text/plain'})\n",
    "        response = requests.put(self.base_url + 'rest/rec/finish', headers=z)\n",
    "        \n",
    "        self.status()\n",
    "        w = 4\n",
    "        print(f\"Waiting {w} seconds for powerdown completion...\")\n",
    "        time.sleep(w)\n",
    "        \n",
    "        print('Updating list of recordings ...')\n",
    "        self.list_recordings(quiet=True)\n",
    "        \n",
    "    def get_settings(self,measurement=0):\n",
    "        \"\"\"Retrieve the settings from a currently stored recording \n",
    "        and make them the current settings.\n",
    "        \n",
    "        Parameters:\n",
    "            measurement (int): Which measurment in the list of recordings \n",
    "                               to retrieve (default : 0 - is a special case, \n",
    "                               meaning the last recording)\n",
    "         \"\"\"\n",
    "    \n",
    "        settings = self.recordings[measurement-1]['setup']\n",
    "        self.settings = settings\n",
    "    \n",
    "    def get_wav(self,measurement=0,directory='',recording_id=''):\n",
    "        \"\"\"Download a WAV file and some json info from the BnK device\n",
    "        \n",
    "        Parameters:\n",
    "            measurement (int): Which measurment in the list of recordings \n",
    "                               to retrieve (default : 0 - is a special case, \n",
    "                               meaning the last recording)\n",
    "            directory (str):   directory in which to store the WAV file\n",
    "            recording_id:      if given, this recording will be retrieved \n",
    "                               instead of a numbered recording\n",
    "        \n",
    "        Returns:\n",
    "            wav_filename (str): A string containing the name of the \n",
    "                                retrieved WAV file.\"\"\"\n",
    "        \n",
    "        if not self.recordings:\n",
    "            print(\"There are no wave files to retrieve\")\n",
    "            return\n",
    "\n",
    "        #Open the recordings\n",
    "        z = self.header.copy()\n",
    "        z.update({'Content-Length': '0', 'Content-Type': 'text/plain'})\n",
    "        response = requests.put(self.base_url + 'rest/rec/open',headers=z)\n",
    "\n",
    "        if recording_id:\n",
    "            for q in self.recordings:\n",
    "                if q['uri'][-10:] == recording_id :\n",
    "                    x = q\n",
    "                    break\n",
    "        else:\n",
    "            x = self.recordings[measurement-1]\n",
    "        \n",
    "        timestamp = dt.fromtimestamp(\n",
    "            x['setup']['datetime']/1000).strftime('%Y%m%d%H%M%S')\n",
    "        wav_filename = os.path.join(directory,x['setup']['name']\n",
    "                                    .replace(' ','_')\n",
    "                                    .replace('/','')\n",
    "                                    .replace('\\\\','') \n",
    "                                    + \"_\" + timestamp)\n",
    "        url = \"http://\" + self.ip + x['uri']\n",
    "        old_filename = x['uri'].replace('/rest/rec/measurements/','')\n",
    "        r = requests.get(url)\n",
    "        open(wav_filename + \".wav\", 'wb').write(r.content)\n",
    "        open(wav_filename + \".json\", 'w').write(json.dumps(x))\n",
    "        time.sleep(0.01)        \n",
    "        return wav_filename + \".wav\"\n",
    "    \n",
    "    def delete_recording(self,measurement=0,recording_id=''):\n",
    "        \"\"\"Delete a recording from the BnK device\n",
    "        \n",
    "        Parameters:\n",
    "            measurement (int): Which measurment in the list of recordings \n",
    "                               to retrieve (default : 0 - is a special case, \n",
    "                               meaning the last recording)\n",
    "            recording_id:      if given, this recording will be retrieved \n",
    "                               instead of a numbered recording\n",
    "        \"\"\"\n",
    "        \n",
    "        if not self.recordings:\n",
    "            print(\"There are no recordings to delete\")\n",
    "            return\n",
    "    \n",
    "        #Open the recordings\n",
    "        z = self.header.copy()\n",
    "        z.update({'Content-Length': '0', 'Content-Type': 'text/plain'})\n",
    "        response = requests.put(self.base_url + 'rest/rec/open',headers=z)\n",
    "\n",
    "        found = False\n",
    "        if recording_id:\n",
    "            for q in self.recordings:\n",
    "                if q['uri'][-10:] == recording_id :\n",
    "                    x = q\n",
    "                    found = True\n",
    "                    break\n",
    "            if not found:\n",
    "                print(\"{} does not exist\".format(recording_id))\n",
    "                return\n",
    "        else:\n",
    "            x = self.recordings[measurement-1]\n",
    "            self.recordings.remove(x)\n",
    "        \n",
    "        z = self.header.copy()\n",
    "        z.update({'Content-Length': '0', 'Content-Type': 'text/plain'})\n",
    "        response = requests.delete(self.base_url + x['uri'], headers=z)\n",
    "        \n",
    "    def delete_all(self,check_str):\n",
    "        \"\"\"WARNING: This will delete all recordings off the SD card.\n",
    "        \n",
    "        Parameters:\n",
    "            check_str (str): To make sure you are serious,\n",
    "                             this variable needs to be set to \"I'm sure\"\n",
    "        \"\"\"\n",
    "        if check_str == \"I'm sure\":\n",
    "            for i in range(len(self.recordings)):\n",
    "                self.delete_recording(0)\n",
    "                time.sleep(0.01)\n",
    "   \n",
    "    def list_recordings(self,quiet=False,start=0,stop=None):\n",
    "        \"\"\"List all the recordings currently on the SD device\n",
    "        \n",
    "        Parameters:\n",
    "            quiet (bool): If True, then nothing is printed\n",
    "        \"\"\"\n",
    "        \n",
    "        if self.state != 'RecorderOpened':\n",
    "            raise Exception(f\"BnK must be in state 'RecorderOpened' \"\n",
    "                           f\"to list recordings.\\n\"\n",
    "                           f\"\\t\\tIt is currently in state {self.state}\")\n",
    "\n",
    "        # Get the list of recordings\n",
    "        response = requests.get(self.base_url + 'rest/rec/measurements',\n",
    "                                headers=self.header)\n",
    "        recordings = json.loads(response.text)\n",
    "        recordings = sorted(recordings, key=lambda x: x['setup']['datetime'] )\n",
    "        self.recordings = recordings\n",
    "\n",
    "        if not quiet:\n",
    "            if start >= 0:\n",
    "                shift = start\n",
    "            else:\n",
    "                shift = len(self.recordings) + start\n",
    "            for idx, recording in enumerate(self.recordings[start:stop]):\n",
    "                setup = recording['setup']\n",
    "                rec_time = dt.fromtimestamp(setup['datetime']/1000)\n",
    "                print(f\"{idx+shift++1} : \"\n",
    "                      f\"{rec_time.strftime('%Y-%m-%d %H:%M:%S')}, \"\n",
    "                      f\"{recording['size']//1024} kB, \"\n",
    "                      f\"{recording['duration']/1000} seconds\")\n",
    "                self.show_settings(True,setup)\n",
    "            \n",
    "    def disable_all(self):\n",
    "        \"\"\"Disable all channels for the next recording\"\"\"\n",
    "        \n",
    "        for x in range(self.info['numberOfInputChannels']):\n",
    "            self.settings['channels'][x]['enabled'] = False\n",
    "    \n",
    "    def disable_channel(self,channel):\n",
    "        \"\"\"Disable a channel for the next recording\n",
    "        \n",
    "        Parameters:\n",
    "            channel (int): The channel to be disabled\n",
    "        \"\"\"\n",
    "        \n",
    "        self.settings['channels'][channel-1]['enabled'] = False\n",
    "    \n",
    "    def enable_channel(self,channel):\n",
    "        \"\"\"Enable a channel for the next recording\n",
    "        \n",
    "        Parameters:\n",
    "            channel (int): The channel to be enabled\n",
    "        \"\"\"\n",
    "        \n",
    "        self.settings['channels'][channel-1]['enabled'] = True\n",
    "    \n",
    "    def set_samplerate(self,sample_rate=131072):\n",
    "        \"\"\"Set the sample rate for all channels\n",
    "        \n",
    "        Parameters:\n",
    "            sample_rate (int): One of [4096, 8192, 16384, 32768,\n",
    "                            65536, 131072] (default: 131072)        \n",
    "        \"\"\"\n",
    "        sr_to_bandwidth = { \n",
    "            '131072' : '51.2 kHz', \n",
    "            '65536' : '25.6 kHz', \n",
    "            '32768' : '12.8 kHz', \n",
    "            '16384' : '6.4 kHz', \n",
    "            '8192' : '3.2 kHz', \n",
    "            '4096' : '1.6 kHz',\n",
    "        }\n",
    "        bandwidth = sr_to_bandwidth[str(sample_rate)]\n",
    "        for x in range(self.info['numberOfInputChannels']):\n",
    "            self.settings['channels'][x]['bandwidth'] = bandwidth\n",
    "\n",
    "    def set_channel(self,\n",
    "                    channel=1,\n",
    "                    name=False,\n",
    "                    c_filter='7.0 Hz',\n",
    "                    c_range='10 Vpeak',\n",
    "                    sensitivity=1,\n",
    "                    unit='V',\n",
    "                    powered=False,\n",
    "                    serialNumber='0',\n",
    "                    transducerType='None'\n",
    "                   ):\n",
    "        \"\"\"Configure the settings for a particular channel\n",
    "        \n",
    "        Parameters:\n",
    "            channel (int)       : Integer in the range 1..6 (default: 1)\n",
    "            name (str)          : Name for the channel (default: 'Channel #')\n",
    "            c_filter (str)      : Type of filtering to use on the channel\n",
    "                                  One of ['DC', '0.1 Hz 10%', '0.7 Hz',\n",
    "                                  '1.0 Hz 10%','7.0 Hz', '22.4 Hz',\n",
    "                                  'Intensity'] (default: '7.0 Hz')\n",
    "            c_range (str)       : Maximum measurable voltage on the channel\n",
    "                                  One of ['10 Vpeak', '31.6 Vpeak']\n",
    "                                  (default: '10 Vpeak')\n",
    "            sensitivity (float) : Sensitivity of the transducer (default: 1)\n",
    "            unit (str)          : Units of the transducer (default: 'V')\n",
    "            powered (bool)      : Does the transducer require power? \n",
    "                                  (default: False)\n",
    "            serialNumber (str)  : Serial number of transducer\n",
    "            transducerType (str): Type of transducer\n",
    "                                \n",
    "        \"\"\"\n",
    "        channel = channel-1\n",
    "        \n",
    "        if not name:\n",
    "            name = \"Channel {}\".format(channel+1)\n",
    "            \n",
    "        settings = self.settings\n",
    "        \n",
    "        filters = ['DC', '0.1 Hz 10%', '0.7 Hz', '1.0 Hz 10%', \n",
    "                   '7.0 Hz', '22.4 Hz', 'Intensity']\n",
    "        if c_filter not in filters:\n",
    "            exception(f\"c_filter must be one of {filters}\")\n",
    "        ranges = ['10 Vpeak', '31.6 Vpeak']\n",
    "        if c_range not in ranges:\n",
    "            exception(f\"c_range must be one of {ranges}\")         \n",
    "        \n",
    "        q = self.settings['channels'][channel]\n",
    "        q['enabled'] = True\n",
    "        q['name'] = self.__check_string(name)\n",
    "        q['filter'] = c_filter\n",
    "        q['range'] = c_range\n",
    "        q['ccld'] = bool(powered)\n",
    "        q = self.settings['channels'][channel]['transducer']\n",
    "        q['sensitivity'] = float(sensitivity)\n",
    "        q['unit'] = self.__check_string(unit)\n",
    "        q['serialNumber'] = self.__check_string(serialNumber)\n",
    "        q['type']['number'] = self.__check_string(transducerType)\n",
    "    \n",
    "    def set_name(self,name_str):\n",
    "        \"\"\"Set the name of the next recording.\n",
    "        \n",
    "        Parameters:\n",
    "            name_str (str): Label for the next recording\n",
    "        \"\"\"\n",
    "        \n",
    "        self.settings['name'] = self.__check_string(name_str)"
   ]
  },
  {
   "cell_type": "markdown",
   "metadata": {
    "Collapsed": "true"
   },
   "source": [
    "# Importing the BnK module (via path)"
   ]
  },
  {
   "cell_type": "markdown",
   "metadata": {
    "Collapsed": "false"
   },
   "source": [
    "When the code is ready for testing as a module, the cell in the previous section can be written to file by removing the hash from the beginning of the `%%writefile` magic command. The module can then be loaded by executing the cell in the next section.\n",
    "\n",
    "N.B. Only load this module if you are ready to test out the bnk code as a module.\n",
    "This module should not be loaded if the code cell in the previous section has been executed.\n",
    "Once loaded, if the module source code is modified, the python kernel must be restarted before the module is reloaded."
   ]
  },
  {
   "cell_type": "code",
   "execution_count": null,
   "metadata": {
    "Collapsed": "false"
   },
   "outputs": [],
   "source": [
    "import time\n",
    "import numpy as np\n",
    "\n",
    "from bnk.bnk import WavHeader, OpenWav, Instrument"
   ]
  },
  {
   "cell_type": "markdown",
   "metadata": {
    "Collapsed": "true"
   },
   "source": [
    "# Packaging the module"
   ]
  },
  {
   "cell_type": "markdown",
   "metadata": {
    "Collapsed": "false"
   },
   "source": [
    "The `setup.py` file for packaging this module is shown below."
   ]
  },
  {
   "cell_type": "code",
   "execution_count": null,
   "metadata": {
    "Collapsed": "false"
   },
   "outputs": [],
   "source": [
    "%%writefile setup.py\n",
    "import setuptools\n",
    "\n",
    "with open(\"ReadMe.md\", \"r\") as fh:\n",
    "    long_description = fh.read()\n",
    "\n",
    "setuptools.setup(\n",
    "    name=\"PyBnK\",\n",
    "    version=\"0.0.7\",\n",
    "    author='Ben Travaglione',\n",
    "    author_email='ben@travaglione.com',\n",
    "    url='https://github.com/uwasystemhealth/PyBnK',\n",
    "    description=(\"This Python package allows interaction with a stand-alone\"\n",
    "                 \"Brüel & Kjær Type 3050-B-6 data acquisition system.\"),\n",
    "    long_description=long_description,\n",
    "    long_description_content_type=\"text/markdown\",\n",
    "    packages=setuptools.find_packages(),\n",
    "    classifiers=[\n",
    "        \"Programming Language :: Python :: 3\",\n",
    "        \"License :: OSI Approved :: MIT License\",\n",
    "        \"Operating System :: OS Independent\",\n",
    "    ],\n",
    ")\n"
   ]
  },
  {
   "cell_type": "markdown",
   "metadata": {
    "Collapsed": "true"
   },
   "source": [
    "# Install the module"
   ]
  },
  {
   "cell_type": "markdown",
   "metadata": {
    "Collapsed": "false"
   },
   "source": [
    "The module can be installed by running the following command:"
   ]
  },
  {
   "cell_type": "code",
   "execution_count": null,
   "metadata": {
    "Collapsed": "false"
   },
   "outputs": [],
   "source": [
    "!pip install ."
   ]
  },
  {
   "cell_type": "markdown",
   "metadata": {
    "Collapsed": "false"
   },
   "source": [
    "## Importing the PyBnk module"
   ]
  },
  {
   "cell_type": "markdown",
   "metadata": {
    "Collapsed": "false"
   },
   "source": [
    "To check that we are loading the installed module and not the module in the path, we need to briefly do two things:\n",
    "* Remove the current directory from the path, which jupyter adds on start-up\n",
    "* Change to a directory which does not contain the module"
   ]
  },
  {
   "cell_type": "code",
   "execution_count": null,
   "metadata": {
    "Collapsed": "false"
   },
   "outputs": [],
   "source": [
    "import sys\n",
    "import os\n",
    "\n",
    "path = sys.path\n",
    "sys.path = path[1:]\n",
    "os.chdir('examples')\n",
    "try:\n",
    "    from bnk.bnk import WavHeader, OpenWav, Instrument\n",
    "except Exception as e:\n",
    "    print(\"PyBnK module is not installed\")\n",
    "    print(e)\n",
    "finally:\n",
    "    os.chdir('..')\n",
    "    sys.path = path"
   ]
  },
  {
   "cell_type": "markdown",
   "metadata": {
    "Collapsed": "false"
   },
   "source": [
    "## Uninstalling the module"
   ]
  },
  {
   "cell_type": "code",
   "execution_count": null,
   "metadata": {
    "Collapsed": "false"
   },
   "outputs": [],
   "source": [
    "!pip uninstall PyBnK -y"
   ]
  },
  {
   "cell_type": "markdown",
   "metadata": {
    "Collapsed": "false",
    "toc-hr-collapsed": false
   },
   "source": [
    "# Instrument Class Methods"
   ]
  },
  {
   "cell_type": "markdown",
   "metadata": {
    "Collapsed": "false"
   },
   "source": [
    "## Load the Instrument"
   ]
  },
  {
   "cell_type": "code",
   "execution_count": null,
   "metadata": {
    "Collapsed": "false"
   },
   "outputs": [],
   "source": [
    "Instrument?"
   ]
  },
  {
   "cell_type": "code",
   "execution_count": null,
   "metadata": {
    "Collapsed": "false"
   },
   "outputs": [],
   "source": [
    "bnk_ip = \"192.168.0.70\"\n",
    "ADAC = Instrument(bnk_ip)\n",
    "print(ADAC)"
   ]
  },
  {
   "cell_type": "markdown",
   "metadata": {
    "Collapsed": "false"
   },
   "source": [
    "## Check status of the BnK"
   ]
  },
  {
   "cell_type": "code",
   "execution_count": null,
   "metadata": {
    "Collapsed": "false"
   },
   "outputs": [],
   "source": [
    "ADAC.status?"
   ]
  },
  {
   "cell_type": "code",
   "execution_count": null,
   "metadata": {
    "Collapsed": "false"
   },
   "outputs": [],
   "source": [
    "ADAC.status()"
   ]
  },
  {
   "cell_type": "markdown",
   "metadata": {
    "Collapsed": "false"
   },
   "source": [
    "## List the state of the transducers"
   ]
  },
  {
   "cell_type": "code",
   "execution_count": null,
   "metadata": {
    "Collapsed": "false"
   },
   "outputs": [],
   "source": [
    "ADAC.transducers?"
   ]
  },
  {
   "cell_type": "code",
   "execution_count": null,
   "metadata": {
    "Collapsed": "false"
   },
   "outputs": [],
   "source": [
    "ADAC.transducers()"
   ]
  },
  {
   "cell_type": "markdown",
   "metadata": {
    "Collapsed": "false"
   },
   "source": [
    "## Close the Recorder application on the Bnk"
   ]
  },
  {
   "cell_type": "code",
   "execution_count": null,
   "metadata": {
    "Collapsed": "false"
   },
   "outputs": [],
   "source": [
    "ADAC.close?"
   ]
  },
  {
   "cell_type": "code",
   "execution_count": null,
   "metadata": {
    "Collapsed": "false"
   },
   "outputs": [],
   "source": [
    "ADAC.close()"
   ]
  },
  {
   "cell_type": "markdown",
   "metadata": {
    "Collapsed": "false"
   },
   "source": [
    "## Reboot the Bnk Device"
   ]
  },
  {
   "cell_type": "code",
   "execution_count": null,
   "metadata": {
    "Collapsed": "false"
   },
   "outputs": [],
   "source": [
    "ADAC.reboot?"
   ]
  },
  {
   "cell_type": "code",
   "execution_count": null,
   "metadata": {
    "Collapsed": "false"
   },
   "outputs": [],
   "source": [
    "ADAC.reboot()\n",
    "print('After rebooting, wait about 30 seconds ...')\n",
    "time.sleep(30)\n",
    "print('done')"
   ]
  },
  {
   "cell_type": "markdown",
   "metadata": {
    "Collapsed": "false"
   },
   "source": [
    "## Open the Recorder application on the Bnk"
   ]
  },
  {
   "cell_type": "code",
   "execution_count": null,
   "metadata": {
    "Collapsed": "false"
   },
   "outputs": [],
   "source": [
    "ADAC.open?"
   ]
  },
  {
   "cell_type": "code",
   "execution_count": null,
   "metadata": {
    "Collapsed": "false"
   },
   "outputs": [],
   "source": [
    "ADAC.open()"
   ]
  },
  {
   "cell_type": "markdown",
   "metadata": {
    "Collapsed": "false"
   },
   "source": [
    "## Delete ALL recordings"
   ]
  },
  {
   "cell_type": "markdown",
   "metadata": {
    "Collapsed": "false"
   },
   "source": [
    "To be able to reproducibly run these tests, we need to assume that we are starting with a blank SD card, so we now delete all the recordings currently on the SD card."
   ]
  },
  {
   "cell_type": "code",
   "execution_count": null,
   "metadata": {
    "Collapsed": "false"
   },
   "outputs": [],
   "source": [
    "print(\"WARNING: This will delete all recordings from the SD card!\")\n",
    "a = input('Continue? (y/N):')\n",
    "if a[0].lower() == 'y':\n",
    "    print(\"Deleting all recordings ...\")\n",
    "    ADAC.delete_all(\"I'm sure\")\n",
    "    print(\"All recordings deleted\")"
   ]
  },
  {
   "cell_type": "markdown",
   "metadata": {
    "Collapsed": "false"
   },
   "source": [
    "## List recordings"
   ]
  },
  {
   "cell_type": "code",
   "execution_count": null,
   "metadata": {
    "Collapsed": "false"
   },
   "outputs": [],
   "source": [
    "ADAC.list_recordings?"
   ]
  },
  {
   "cell_type": "code",
   "execution_count": null,
   "metadata": {
    "Collapsed": "false"
   },
   "outputs": [],
   "source": [
    "ADAC.list_recordings()"
   ]
  },
  {
   "cell_type": "markdown",
   "metadata": {
    "Collapsed": "false"
   },
   "source": [
    "## Change the sample rate"
   ]
  },
  {
   "cell_type": "code",
   "execution_count": null,
   "metadata": {
    "Collapsed": "false"
   },
   "outputs": [],
   "source": [
    "ADAC.set_samplerate?"
   ]
  },
  {
   "cell_type": "code",
   "execution_count": null,
   "metadata": {
    "Collapsed": "false"
   },
   "outputs": [],
   "source": [
    "ADAC.set_samplerate(4096)\n",
    "print(ADAC)"
   ]
  },
  {
   "cell_type": "markdown",
   "metadata": {
    "Collapsed": "false"
   },
   "source": [
    "## Disable all channels"
   ]
  },
  {
   "cell_type": "code",
   "execution_count": null,
   "metadata": {
    "Collapsed": "false"
   },
   "outputs": [],
   "source": [
    "ADAC.disable_all?"
   ]
  },
  {
   "cell_type": "code",
   "execution_count": null,
   "metadata": {
    "Collapsed": "false"
   },
   "outputs": [],
   "source": [
    "ADAC.disable_all()\n",
    "print(ADAC)"
   ]
  },
  {
   "cell_type": "markdown",
   "metadata": {
    "Collapsed": "false"
   },
   "source": [
    "## Enable a channel"
   ]
  },
  {
   "cell_type": "code",
   "execution_count": null,
   "metadata": {
    "Collapsed": "false"
   },
   "outputs": [],
   "source": [
    "ADAC.enable_channel?"
   ]
  },
  {
   "cell_type": "code",
   "execution_count": null,
   "metadata": {
    "Collapsed": "false"
   },
   "outputs": [],
   "source": [
    "ADAC.enable_channel(1)\n",
    "print(ADAC)"
   ]
  },
  {
   "cell_type": "markdown",
   "metadata": {
    "Collapsed": "false"
   },
   "source": [
    "## Set the name of the next recording"
   ]
  },
  {
   "cell_type": "code",
   "execution_count": null,
   "metadata": {
    "Collapsed": "false"
   },
   "outputs": [],
   "source": [
    "ADAC.set_name?"
   ]
  },
  {
   "cell_type": "code",
   "execution_count": null,
   "metadata": {
    "Collapsed": "false"
   },
   "outputs": [],
   "source": [
    "ADAC.set_name('Testing a single channel')\n",
    "ADAC.show_settings()"
   ]
  },
  {
   "cell_type": "markdown",
   "metadata": {
    "Collapsed": "false"
   },
   "source": [
    "## Set the channel name"
   ]
  },
  {
   "cell_type": "code",
   "execution_count": null,
   "metadata": {
    "Collapsed": "false"
   },
   "outputs": [],
   "source": [
    "ADAC.set_channel?"
   ]
  },
  {
   "cell_type": "code",
   "execution_count": null,
   "metadata": {
    "Collapsed": "false"
   },
   "outputs": [],
   "source": [
    "ADAC.set_channel(name=f'Sinusoidal input at frequency {frequency} Hz and amplitude {amplitude} Vpp')\n",
    "print(ADAC)"
   ]
  },
  {
   "cell_type": "markdown",
   "metadata": {
    "Collapsed": "false"
   },
   "source": [
    "## Get the BnK ready for recording"
   ]
  },
  {
   "cell_type": "code",
   "execution_count": null,
   "metadata": {
    "Collapsed": "false"
   },
   "outputs": [],
   "source": [
    "ADAC.powerup();"
   ]
  },
  {
   "cell_type": "markdown",
   "metadata": {
    "Collapsed": "false"
   },
   "source": [
    "## Record for a specified interval"
   ]
  },
  {
   "cell_type": "code",
   "execution_count": null,
   "metadata": {
    "Collapsed": "false"
   },
   "outputs": [],
   "source": [
    "ADAC.record?"
   ]
  },
  {
   "cell_type": "code",
   "execution_count": null,
   "metadata": {
    "Collapsed": "false"
   },
   "outputs": [],
   "source": [
    "ADAC.record(2)"
   ]
  },
  {
   "cell_type": "markdown",
   "metadata": {
    "Collapsed": "false"
   },
   "source": [
    "## Close recording mode"
   ]
  },
  {
   "cell_type": "code",
   "execution_count": null,
   "metadata": {
    "Collapsed": "false"
   },
   "outputs": [],
   "source": [
    "ADAC.powerdown()"
   ]
  },
  {
   "cell_type": "code",
   "execution_count": null,
   "metadata": {
    "Collapsed": "false"
   },
   "outputs": [],
   "source": [
    "ADAC.status()"
   ]
  },
  {
   "cell_type": "code",
   "execution_count": null,
   "metadata": {
    "Collapsed": "false"
   },
   "outputs": [],
   "source": [
    "ADAC.list_recordings()"
   ]
  },
  {
   "cell_type": "markdown",
   "metadata": {
    "Collapsed": "false"
   },
   "source": [
    "## Start an open-ended recording"
   ]
  },
  {
   "cell_type": "code",
   "execution_count": null,
   "metadata": {
    "Collapsed": "false"
   },
   "outputs": [],
   "source": [
    "ADAC.powerup();"
   ]
  },
  {
   "cell_type": "code",
   "execution_count": null,
   "metadata": {
    "Collapsed": "false"
   },
   "outputs": [],
   "source": [
    "ADAC.start_record()"
   ]
  },
  {
   "cell_type": "markdown",
   "metadata": {
    "Collapsed": "false"
   },
   "source": [
    "## Stop an open-ended recording"
   ]
  },
  {
   "cell_type": "code",
   "execution_count": null,
   "metadata": {
    "Collapsed": "false"
   },
   "outputs": [],
   "source": [
    "ADAC.stop_record()"
   ]
  },
  {
   "cell_type": "code",
   "execution_count": null,
   "metadata": {
    "Collapsed": "false"
   },
   "outputs": [],
   "source": [
    "ADAC.powerdown()"
   ]
  },
  {
   "cell_type": "markdown",
   "metadata": {
    "Collapsed": "false"
   },
   "source": [
    "## Get the settings from a previous recording"
   ]
  },
  {
   "cell_type": "code",
   "execution_count": null,
   "metadata": {
    "Collapsed": "false"
   },
   "outputs": [],
   "source": [
    "ADAC.get_settings?"
   ]
  },
  {
   "cell_type": "code",
   "execution_count": null,
   "metadata": {
    "Collapsed": "false"
   },
   "outputs": [],
   "source": [
    "ADAC.get_settings(2)\n",
    "print(ADAC)"
   ]
  },
  {
   "cell_type": "markdown",
   "metadata": {
    "Collapsed": "false"
   },
   "source": [
    "## Retrieve some recordings"
   ]
  },
  {
   "cell_type": "code",
   "execution_count": null,
   "metadata": {
    "Collapsed": "false"
   },
   "outputs": [],
   "source": [
    "ADAC.list_recordings()"
   ]
  },
  {
   "cell_type": "code",
   "execution_count": null,
   "metadata": {
    "Collapsed": "false"
   },
   "outputs": [],
   "source": [
    "ADAC.get_wav?"
   ]
  },
  {
   "cell_type": "code",
   "execution_count": null,
   "metadata": {
    "Collapsed": "false"
   },
   "outputs": [],
   "source": [
    "recording_1 = ADAC.get_wav(1,'samples')"
   ]
  },
  {
   "cell_type": "markdown",
   "metadata": {
    "Collapsed": "false"
   },
   "source": [
    "# Open a WAV file"
   ]
  },
  {
   "cell_type": "code",
   "execution_count": null,
   "metadata": {
    "Collapsed": "false"
   },
   "outputs": [],
   "source": [
    "OpenWav?"
   ]
  },
  {
   "cell_type": "code",
   "execution_count": null,
   "metadata": {
    "Collapsed": "false"
   },
   "outputs": [],
   "source": [
    "OpenWav(recording_1)"
   ]
  }
 ],
 "metadata": {
  "kernelspec": {
   "display_name": "Python 3",
   "language": "python",
   "name": "python3"
  },
  "language_info": {
   "codemirror_mode": {
    "name": "ipython",
    "version": 3
   },
   "file_extension": ".py",
   "mimetype": "text/x-python",
   "name": "python",
   "nbconvert_exporter": "python",
   "pygments_lexer": "ipython3",
   "version": "3.9.2"
  },
  "nav_menu": {},
  "toc": {
   "colors": {
    "hover_highlight": "#DAA520",
    "navigate_num": "#000000",
    "navigate_text": "#333333",
    "running_highlight": "#FF0000",
    "selected_highlight": "#FFD700",
    "sidebar_border": "#EEEEEE",
    "wrapper_background": "#FFFFFF"
   },
   "moveMenuLeft": true,
   "nav_menu": {
    "height": "250px",
    "width": "252px"
   },
   "navigate_menu": true,
   "number_sections": true,
   "sideBar": true,
   "threshold": 4,
   "toc_cell": false,
   "toc_section_display": "block",
   "toc_window_display": true,
   "widenNotebook": false
  },
  "toc-showcode": false,
  "toc-showmarkdowntxt": false,
  "toc-showtags": false,
  "toc_position": {
   "height": "781px",
   "left": "0px",
   "right": "1498px",
   "top": "107px",
   "width": "212px"
  }
 },
 "nbformat": 4,
 "nbformat_minor": 4
}
